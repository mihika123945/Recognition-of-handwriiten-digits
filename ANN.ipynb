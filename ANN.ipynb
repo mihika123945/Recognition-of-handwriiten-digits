{
  "nbformat": 4,
  "nbformat_minor": 0,
  "metadata": {
    "colab": {
      "name": "ANN.ipynb",
      "provenance": [],
      "collapsed_sections": []
    },
    "kernelspec": {
      "name": "python3",
      "display_name": "Python 3"
    },
    "language_info": {
      "name": "python"
    },
    "accelerator": "GPU"
  },
  "cells": [
    {
      "cell_type": "code",
      "execution_count": null,
      "metadata": {
        "id": "RXxEcz_j6nhP"
      },
      "outputs": [],
      "source": [
        "#CLASSIFICATION"
      ]
    },
    {
      "cell_type": "code",
      "source": [
        "#MNIST -handwritten digits(0 to 9)\n",
        "#fashion mnist - clothing and fashion images(10 different types)\n",
        "#multiclass classification example\n",
        "#neural networks main aim is to get correct set of weights and bias values for best possible predictions (less error and more accuracy)"
      ],
      "metadata": {
        "id": "RMoR_jH57OVr"
      },
      "execution_count": null,
      "outputs": []
    },
    {
      "cell_type": "code",
      "source": [
        "# #  LOSSES FOR NEURAL NETWORKS \n",
        "\n",
        "# REGRESSION - mean_squared_error or mean_absolute_error\n",
        "\n",
        "# CLASSIFICATION - Binary classification -  Binary cross entropy \n",
        "#                  Multi class classification - Categorical cross entropy (if target is a one hot encoded array) \n",
        "#                                               Sparse categorical cross entropy (if target is a sparse representation (ex numerical ))"
      ],
      "metadata": {
        "id": "wG9R5OqFGUm1"
      },
      "execution_count": null,
      "outputs": []
    },
    {
      "cell_type": "code",
      "source": [
        "import tensorflow as tf"
      ],
      "metadata": {
        "id": "0AWv4mgs7j30"
      },
      "execution_count": null,
      "outputs": []
    },
    {
      "cell_type": "code",
      "source": [
        "tf.__version__ #tensorflow v2 and above has got keras installed by default"
      ],
      "metadata": {
        "colab": {
          "base_uri": "https://localhost:8080/",
          "height": 35
        },
        "id": "9q612F6e9KGQ",
        "outputId": "55c71a7c-c2d6-470f-d2fb-ac4179ba9d22"
      },
      "execution_count": null,
      "outputs": [
        {
          "output_type": "execute_result",
          "data": {
            "text/plain": [
              "'2.8.0'"
            ],
            "application/vnd.google.colaboratory.intrinsic+json": {
              "type": "string"
            }
          },
          "metadata": {},
          "execution_count": 3
        }
      ]
    },
    {
      "cell_type": "code",
      "source": [
        "from tensorflow import keras #import keras library from inside tensorflow"
      ],
      "metadata": {
        "id": "paBMH68Z9OiC"
      },
      "execution_count": null,
      "outputs": []
    },
    {
      "cell_type": "code",
      "source": [
        "# load the data and split the dataset into ytraining and testing values\n",
        "(x_train, y_train), (x_test, y_test) = tf.keras.datasets.mnist.load_data(path=\"mnist.npz\")"
      ],
      "metadata": {
        "id": "k4DfuxMZ9ULX"
      },
      "execution_count": null,
      "outputs": []
    },
    {
      "cell_type": "code",
      "source": [
        "x_train.shape"
      ],
      "metadata": {
        "colab": {
          "base_uri": "https://localhost:8080/"
        },
        "id": "PLXgV93B-XSS",
        "outputId": "4aa5ea88-41ef-4ce8-9b3c-94e640593c41"
      },
      "execution_count": null,
      "outputs": [
        {
          "output_type": "execute_result",
          "data": {
            "text/plain": [
              "(60000, 28, 28)"
            ]
          },
          "metadata": {},
          "execution_count": 7
        }
      ]
    },
    {
      "cell_type": "code",
      "source": [
        "y_train.shape"
      ],
      "metadata": {
        "colab": {
          "base_uri": "https://localhost:8080/"
        },
        "id": "Prp2MIsO-qW8",
        "outputId": "8b51e03c-4523-4dc7-b994-b5d4a901037d"
      },
      "execution_count": null,
      "outputs": [
        {
          "output_type": "execute_result",
          "data": {
            "text/plain": [
              "(60000,)"
            ]
          },
          "metadata": {},
          "execution_count": 8
        }
      ]
    },
    {
      "cell_type": "code",
      "source": [
        "x_test.shape"
      ],
      "metadata": {
        "colab": {
          "base_uri": "https://localhost:8080/"
        },
        "id": "0dRjb3ER-shY",
        "outputId": "6315ebc0-8363-42db-9492-f01157680825"
      },
      "execution_count": null,
      "outputs": [
        {
          "output_type": "execute_result",
          "data": {
            "text/plain": [
              "(10000, 28, 28)"
            ]
          },
          "metadata": {},
          "execution_count": 9
        }
      ]
    },
    {
      "cell_type": "code",
      "source": [
        "y_test.shape"
      ],
      "metadata": {
        "colab": {
          "base_uri": "https://localhost:8080/"
        },
        "id": "XO3yqUlH-u4A",
        "outputId": "d991d54b-183c-4dd4-96d4-8c377a8c51d1"
      },
      "execution_count": null,
      "outputs": [
        {
          "output_type": "execute_result",
          "data": {
            "text/plain": [
              "(10000,)"
            ]
          },
          "metadata": {},
          "execution_count": 10
        }
      ]
    },
    {
      "cell_type": "code",
      "source": [
        "import matplotlib.pyplot as plt\n",
        "plt.imshow(x_train[65],cmap = 'gray')\n",
        "plt.show()\n",
        "print(f\"Output :[y_train[65]]\")"
      ],
      "metadata": {
        "colab": {
          "base_uri": "https://localhost:8080/",
          "height": 282
        },
        "id": "3scPIzce_XwS",
        "outputId": "3dab54d6-c8e5-410a-f46d-4b712e55fcde"
      },
      "execution_count": null,
      "outputs": [
        {
          "output_type": "display_data",
          "data": {
            "text/plain": [
              "<Figure size 432x288 with 1 Axes>"
            ],
            "image/png": "[encoded data removed]"
          },
          "metadata": {
            "needs_background": "light"
          }
        },
        {
          "output_type": "stream",
          "name": "stdout",
          "text": [
            "Output :[y_train[65]]\n"
          ]
        }
      ]
    },
    {
      "cell_type": "code",
      "source": [
        "y_train"
      ],
      "metadata": {
        "colab": {
          "base_uri": "https://localhost:8080/"
        },
        "id": "d0-oLyyX_xAO",
        "outputId": "5aecfb82-d75f-4045-9de5-901207d9517d"
      },
      "execution_count": null,
      "outputs": [
        {
          "output_type": "execute_result",
          "data": {
            "text/plain": [
              "array([5, 0, 4, ..., 5, 6, 8], dtype=uint8)"
            ]
          },
          "metadata": {},
          "execution_count": 13
        }
      ]
    },
    {
      "cell_type": "code",
      "source": [
        "x_train[0]"
      ],
      "metadata": {
        "colab": {
          "base_uri": "https://localhost:8080/"
        },
        "id": "rccjTPyYAQqE",
        "outputId": "80e5e67c-5843-4cd0-93ca-90cb30c5bd43"
      },
      "execution_count": null,
      "outputs": [
        {
          "output_type": "execute_result",
          "data": {
            "text/plain": [
              "array([[  0,   0,   0,   0,   0,   0,   0,   0,   0,   0,   0,   0,   0,\n",
              "          0,   0,   0,   0,   0,   0,   0,   0,   0,   0,   0,   0,   0,\n",
              "          0,   0],\n",
              "       [  0,   0,   0,   0,   0,   0,   0,   0,   0,   0,   0,   0,   0,\n",
              "          0,   0,   0,   0,   0,   0,   0,   0,   0,   0,   0,   0,   0,\n",
              "          0,   0],\n",
              "       [  0,   0,   0,   0,   0,   0,   0,   0,   0,   0,   0,   0,   0,\n",
              "          0,   0,   0,   0,   0,   0,   0,   0,   0,   0,   0,   0,   0,\n",
              "          0,   0],\n",
              "       [  0,   0,   0,   0,   0,   0,   0,   0,   0,   0,   0,   0,   0,\n",
              "          0,   0,   0,   0,   0,   0,   0,   0,   0,   0,   0,   0,   0,\n",
              "          0,   0],\n",
              "       [  0,   0,   0,   0,   0,   0,   0,   0,   0,   0,   0,   0,   0,\n",
              "          0,   0,   0,   0,   0,   0,   0,   0,   0,   0,   0,   0,   0,\n",
              "          0,   0],\n",
              "       [  0,   0,   0,   0,   0,   0,   0,   0,   0,   0,   0,   0,   3,\n",
              "         18,  18,  18, 126, 136, 175,  26, 166, 255, 247, 127,   0,   0,\n",
              "          0,   0],\n",
              "       [  0,   0,   0,   0,   0,   0,   0,   0,  30,  36,  94, 154, 170,\n",
              "        253, 253, 253, 253, 253, 225, 172, 253, 242, 195,  64,   0,   0,\n",
              "          0,   0],\n",
              "       [  0,   0,   0,   0,   0,   0,   0,  49, 238, 253, 253, 253, 253,\n",
              "        253, 253, 253, 253, 251,  93,  82,  82,  56,  39,   0,   0,   0,\n",
              "          0,   0],\n",
              "       [  0,   0,   0,   0,   0,   0,   0,  18, 219, 253, 253, 253, 253,\n",
              "        253, 198, 182, 247, 241,   0,   0,   0,   0,   0,   0,   0,   0,\n",
              "          0,   0],\n",
              "       [  0,   0,   0,   0,   0,   0,   0,   0,  80, 156, 107, 253, 253,\n",
              "        205,  11,   0,  43, 154,   0,   0,   0,   0,   0,   0,   0,   0,\n",
              "          0,   0],\n",
              "       [  0,   0,   0,   0,   0,   0,   0,   0,   0,  14,   1, 154, 253,\n",
              "         90,   0,   0,   0,   0,   0,   0,   0,   0,   0,   0,   0,   0,\n",
              "          0,   0],\n",
              "       [  0,   0,   0,   0,   0,   0,   0,   0,   0,   0,   0, 139, 253,\n",
              "        190,   2,   0,   0,   0,   0,   0,   0,   0,   0,   0,   0,   0,\n",
              "          0,   0],\n",
              "       [  0,   0,   0,   0,   0,   0,   0,   0,   0,   0,   0,  11, 190,\n",
              "        253,  70,   0,   0,   0,   0,   0,   0,   0,   0,   0,   0,   0,\n",
              "          0,   0],\n",
              "       [  0,   0,   0,   0,   0,   0,   0,   0,   0,   0,   0,   0,  35,\n",
              "        241, 225, 160, 108,   1,   0,   0,   0,   0,   0,   0,   0,   0,\n",
              "          0,   0],\n",
              "       [  0,   0,   0,   0,   0,   0,   0,   0,   0,   0,   0,   0,   0,\n",
              "         81, 240, 253, 253, 119,  25,   0,   0,   0,   0,   0,   0,   0,\n",
              "          0,   0],\n",
              "       [  0,   0,   0,   0,   0,   0,   0,   0,   0,   0,   0,   0,   0,\n",
              "          0,  45, 186, 253, 253, 150,  27,   0,   0,   0,   0,   0,   0,\n",
              "          0,   0],\n",
              "       [  0,   0,   0,   0,   0,   0,   0,   0,   0,   0,   0,   0,   0,\n",
              "          0,   0,  16,  93, 252, 253, 187,   0,   0,   0,   0,   0,   0,\n",
              "          0,   0],\n",
              "       [  0,   0,   0,   0,   0,   0,   0,   0,   0,   0,   0,   0,   0,\n",
              "          0,   0,   0,   0, 249, 253, 249,  64,   0,   0,   0,   0,   0,\n",
              "          0,   0],\n",
              "       [  0,   0,   0,   0,   0,   0,   0,   0,   0,   0,   0,   0,   0,\n",
              "          0,  46, 130, 183, 253, 253, 207,   2,   0,   0,   0,   0,   0,\n",
              "          0,   0],\n",
              "       [  0,   0,   0,   0,   0,   0,   0,   0,   0,   0,   0,   0,  39,\n",
              "        148, 229, 253, 253, 253, 250, 182,   0,   0,   0,   0,   0,   0,\n",
              "          0,   0],\n",
              "       [  0,   0,   0,   0,   0,   0,   0,   0,   0,   0,  24, 114, 221,\n",
              "        253, 253, 253, 253, 201,  78,   0,   0,   0,   0,   0,   0,   0,\n",
              "          0,   0],\n",
              "       [  0,   0,   0,   0,   0,   0,   0,   0,  23,  66, 213, 253, 253,\n",
              "        253, 253, 198,  81,   2,   0,   0,   0,   0,   0,   0,   0,   0,\n",
              "          0,   0],\n",
              "       [  0,   0,   0,   0,   0,   0,  18, 171, 219, 253, 253, 253, 253,\n",
              "        195,  80,   9,   0,   0,   0,   0,   0,   0,   0,   0,   0,   0,\n",
              "          0,   0],\n",
              "       [  0,   0,   0,   0,  55, 172, 226, 253, 253, 253, 253, 244, 133,\n",
              "         11,   0,   0,   0,   0,   0,   0,   0,   0,   0,   0,   0,   0,\n",
              "          0,   0],\n",
              "       [  0,   0,   0,   0, 136, 253, 253, 253, 212, 135, 132,  16,   0,\n",
              "          0,   0,   0,   0,   0,   0,   0,   0,   0,   0,   0,   0,   0,\n",
              "          0,   0],\n",
              "       [  0,   0,   0,   0,   0,   0,   0,   0,   0,   0,   0,   0,   0,\n",
              "          0,   0,   0,   0,   0,   0,   0,   0,   0,   0,   0,   0,   0,\n",
              "          0,   0],\n",
              "       [  0,   0,   0,   0,   0,   0,   0,   0,   0,   0,   0,   0,   0,\n",
              "          0,   0,   0,   0,   0,   0,   0,   0,   0,   0,   0,   0,   0,\n",
              "          0,   0],\n",
              "       [  0,   0,   0,   0,   0,   0,   0,   0,   0,   0,   0,   0,   0,\n",
              "          0,   0,   0,   0,   0,   0,   0,   0,   0,   0,   0,   0,   0,\n",
              "          0,   0]], dtype=uint8)"
            ]
          },
          "metadata": {},
          "execution_count": 14
        }
      ]
    },
    {
      "cell_type": "code",
      "source": [
        "#normalization\n",
        "x_train[0].max()"
      ],
      "metadata": {
        "colab": {
          "base_uri": "https://localhost:8080/"
        },
        "id": "_Ol6Qrm5AV6L",
        "outputId": "b6a2371d-2349-4bc9-d680-57b953ccc27e"
      },
      "execution_count": null,
      "outputs": [
        {
          "output_type": "execute_result",
          "data": {
            "text/plain": [
              "255"
            ]
          },
          "metadata": {},
          "execution_count": 15
        }
      ]
    },
    {
      "cell_type": "code",
      "source": [
        "x_train[0].min()"
      ],
      "metadata": {
        "colab": {
          "base_uri": "https://localhost:8080/"
        },
        "id": "Ky62qXf7AgSC",
        "outputId": "22af356e-53b4-4255-ebbe-d1d5aeed4cf1"
      },
      "execution_count": null,
      "outputs": [
        {
          "output_type": "execute_result",
          "data": {
            "text/plain": [
              "0"
            ]
          },
          "metadata": {},
          "execution_count": 16
        }
      ]
    },
    {
      "cell_type": "code",
      "source": [
        "# 255 - max brightness\n",
        "# 0 - mini brightness\n",
        "# to normalize ,255 is changed to 1 \n",
        "# 0 is kept same to 0 itself"
      ],
      "metadata": {
        "id": "Fq_VtN7IAkh4"
      },
      "execution_count": null,
      "outputs": []
    },
    {
      "cell_type": "code",
      "source": [
        "#scaling/normalization\n",
        "x_train = x_train/255\n",
        "x_test = x_test/255"
      ],
      "metadata": {
        "id": "GLjtQZsQA3UE"
      },
      "execution_count": null,
      "outputs": []
    },
    {
      "cell_type": "code",
      "source": [
        "[x_train][0]"
      ],
      "metadata": {
        "colab": {
          "base_uri": "https://localhost:8080/"
        },
        "id": "ShMv4IcBBP4j",
        "outputId": "d96aa3a8-f5e4-45bb-ce86-fcdcf39bd2d9"
      },
      "execution_count": null,
      "outputs": [
        {
          "output_type": "execute_result",
          "data": {
            "text/plain": [
              "array([[[0., 0., 0., ..., 0., 0., 0.],\n",
              "        [0., 0., 0., ..., 0., 0., 0.],\n",
              "        [0., 0., 0., ..., 0., 0., 0.],\n",
              "        ...,\n",
              "        [0., 0., 0., ..., 0., 0., 0.],\n",
              "        [0., 0., 0., ..., 0., 0., 0.],\n",
              "        [0., 0., 0., ..., 0., 0., 0.]],\n",
              "\n",
              "       [[0., 0., 0., ..., 0., 0., 0.],\n",
              "        [0., 0., 0., ..., 0., 0., 0.],\n",
              "        [0., 0., 0., ..., 0., 0., 0.],\n",
              "        ...,\n",
              "        [0., 0., 0., ..., 0., 0., 0.],\n",
              "        [0., 0., 0., ..., 0., 0., 0.],\n",
              "        [0., 0., 0., ..., 0., 0., 0.]],\n",
              "\n",
              "       [[0., 0., 0., ..., 0., 0., 0.],\n",
              "        [0., 0., 0., ..., 0., 0., 0.],\n",
              "        [0., 0., 0., ..., 0., 0., 0.],\n",
              "        ...,\n",
              "        [0., 0., 0., ..., 0., 0., 0.],\n",
              "        [0., 0., 0., ..., 0., 0., 0.],\n",
              "        [0., 0., 0., ..., 0., 0., 0.]],\n",
              "\n",
              "       ...,\n",
              "\n",
              "       [[0., 0., 0., ..., 0., 0., 0.],\n",
              "        [0., 0., 0., ..., 0., 0., 0.],\n",
              "        [0., 0., 0., ..., 0., 0., 0.],\n",
              "        ...,\n",
              "        [0., 0., 0., ..., 0., 0., 0.],\n",
              "        [0., 0., 0., ..., 0., 0., 0.],\n",
              "        [0., 0., 0., ..., 0., 0., 0.]],\n",
              "\n",
              "       [[0., 0., 0., ..., 0., 0., 0.],\n",
              "        [0., 0., 0., ..., 0., 0., 0.],\n",
              "        [0., 0., 0., ..., 0., 0., 0.],\n",
              "        ...,\n",
              "        [0., 0., 0., ..., 0., 0., 0.],\n",
              "        [0., 0., 0., ..., 0., 0., 0.],\n",
              "        [0., 0., 0., ..., 0., 0., 0.]],\n",
              "\n",
              "       [[0., 0., 0., ..., 0., 0., 0.],\n",
              "        [0., 0., 0., ..., 0., 0., 0.],\n",
              "        [0., 0., 0., ..., 0., 0., 0.],\n",
              "        ...,\n",
              "        [0., 0., 0., ..., 0., 0., 0.],\n",
              "        [0., 0., 0., ..., 0., 0., 0.],\n",
              "        [0., 0., 0., ..., 0., 0., 0.]]])"
            ]
          },
          "metadata": {},
          "execution_count": 19
        }
      ]
    },
    {
      "cell_type": "code",
      "source": [
        "[x_train][0].shape"
      ],
      "metadata": {
        "colab": {
          "base_uri": "https://localhost:8080/"
        },
        "id": "ROda2hloBbdP",
        "outputId": "e136ded0-9d76-4fbc-8ab2-0a34702eb803"
      },
      "execution_count": null,
      "outputs": [
        {
          "output_type": "execute_result",
          "data": {
            "text/plain": [
              "(60000, 28, 28)"
            ]
          },
          "metadata": {},
          "execution_count": 20
        }
      ]
    },
    {
      "cell_type": "code",
      "source": [
        "#create the nueral network\n",
        "#input neural network architecture "
      ],
      "metadata": {
        "id": "40u-oGJEBjoR"
      },
      "execution_count": null,
      "outputs": []
    },
    {
      "cell_type": "code",
      "source": [
        "# create the  neural network\n",
        "\n",
        "# define the neural network architecture\n",
        "\n",
        "# input - 784 neurons\n",
        "# hidden - 532 neurons\n",
        "# output - 10 neurons\n",
        "\n",
        "model = tf.keras.Sequential()\n",
        "model.add(tf.keras.layers.Flatten(input_shape = x_train[0].shape))    #Input Layer\n",
        " # Flattening of the layer (converting from 28x28 grayscale image to 784 artificial neurons)\n",
        "model.add(tf.keras.layers.Dense(532,activation = 'relu')) #hidden layer\n",
        "model.add(tf.keras.layers.Dense(10,activation='softmax'))   #output layer (add neurons depending on the number of classes in th output column)"
      ],
      "metadata": {
        "id": "bqzvAzDpB-nt"
      },
      "execution_count": null,
      "outputs": []
    },
    {
      "cell_type": "code",
      "source": [
        "#rules to define neurons for hidden layer\n",
        "# neurons between 10 and 784\n",
        "(2/3) * 784+10"
      ],
      "metadata": {
        "colab": {
          "base_uri": "https://localhost:8080/"
        },
        "id": "nHB4bLGtCv2V",
        "outputId": "11d1e0a3-34ae-43ac-c01c-f0979b04988a"
      },
      "execution_count": null,
      "outputs": [
        {
          "output_type": "execute_result",
          "data": {
            "text/plain": [
              "532.6666666666666"
            ]
          },
          "metadata": {},
          "execution_count": 26
        }
      ]
    },
    {
      "cell_type": "code",
      "source": [
        "model.summary()"
      ],
      "metadata": {
        "colab": {
          "base_uri": "https://localhost:8080/"
        },
        "id": "tdPzpyo9EwAS",
        "outputId": "b8e96469-6321-429c-85c0-dc09547adbf8"
      },
      "execution_count": null,
      "outputs": [
        {
          "output_type": "stream",
          "name": "stdout",
          "text": [
            "Model: \"sequential\"\n",
            "_________________________________________________________________\n",
            " Layer (type)                Output Shape              Param #   \n",
            "=================================================================\n",
            " flatten (Flatten)           (None, 784)               0         \n",
            "                                                                 \n",
            " dense (Dense)               (None, 532)               417620    \n",
            "                                                                 \n",
            " dense_1 (Dense)             (None, 10)                5330      \n",
            "                                                                 \n",
            "=================================================================\n",
            "Total params: 422,950\n",
            "Trainable params: 422,950\n",
            "Non-trainable params: 0\n",
            "_________________________________________________________________\n"
          ]
        }
      ]
    },
    {
      "cell_type": "code",
      "source": [
        "model.compile(optimizer ='adam',loss ='sparse_categorical_crossentropy',metrics = 'accuracy')\n"
      ],
      "metadata": {
        "id": "bbVkbkT8FG_i"
      },
      "execution_count": null,
      "outputs": []
    },
    {
      "cell_type": "code",
      "source": [
        "model.fit(x_train,y_train,epochs = 15) #batch size =32"
      ],
      "metadata": {
        "colab": {
          "base_uri": "https://localhost:8080/"
        },
        "id": "42YVbQxCFVrB",
        "outputId": "1719be76-3970-4ec5-a3da-5b63b0c19bd1"
      },
      "execution_count": null,
      "outputs": [
        {
          "output_type": "stream",
          "name": "stdout",
          "text": [
            "Epoch 1/15\n",
            "1875/1875 [==============================] - 6s 3ms/step - loss: 0.0079 - accuracy: 0.9973\n",
            "Epoch 2/15\n",
            "1875/1875 [==============================] - 6s 3ms/step - loss: 0.0068 - accuracy: 0.9980\n",
            "Epoch 3/15\n",
            "1875/1875 [==============================] - 6s 3ms/step - loss: 0.0074 - accuracy: 0.9977\n",
            "Epoch 4/15\n",
            "1875/1875 [==============================] - 6s 3ms/step - loss: 0.0036 - accuracy: 0.9988\n",
            "Epoch 5/15\n",
            "1875/1875 [==============================] - 6s 3ms/step - loss: 0.0073 - accuracy: 0.9979\n",
            "Epoch 6/15\n",
            "1875/1875 [==============================] - 6s 3ms/step - loss: 0.0059 - accuracy: 0.9979\n",
            "Epoch 7/15\n",
            "1875/1875 [==============================] - 6s 3ms/step - loss: 0.0067 - accuracy: 0.9977\n",
            "Epoch 8/15\n",
            "1875/1875 [==============================] - 6s 3ms/step - loss: 0.0037 - accuracy: 0.9988\n",
            "Epoch 9/15\n",
            "1875/1875 [==============================] - 6s 3ms/step - loss: 0.0075 - accuracy: 0.9981\n",
            "Epoch 10/15\n",
            "1875/1875 [==============================] - 6s 3ms/step - loss: 0.0036 - accuracy: 0.9990\n",
            "Epoch 11/15\n",
            "1875/1875 [==============================] - 6s 3ms/step - loss: 0.0053 - accuracy: 0.9983\n",
            "Epoch 12/15\n",
            "1875/1875 [==============================] - 6s 3ms/step - loss: 0.0063 - accuracy: 0.9980\n",
            "Epoch 13/15\n",
            "1875/1875 [==============================] - 6s 3ms/step - loss: 0.0052 - accuracy: 0.9985\n",
            "Epoch 14/15\n",
            "1875/1875 [==============================] - 6s 3ms/step - loss: 0.0039 - accuracy: 0.9988\n",
            "Epoch 15/15\n",
            "1875/1875 [==============================] - 6s 3ms/step - loss: 0.0053 - accuracy: 0.9985\n"
          ]
        },
        {
          "output_type": "execute_result",
          "data": {
            "text/plain": [
              "<keras.callbacks.History at 0x7f65be3d4550>"
            ]
          },
          "metadata": {},
          "execution_count": 25
        }
      ]
    },
    {
      "cell_type": "code",
      "source": [
        "60000/32"
      ],
      "metadata": {
        "colab": {
          "base_uri": "https://localhost:8080/"
        },
        "id": "wlEc0a6WHBrF",
        "outputId": "a7d7caf2-5d45-4b1d-9373-3f87795ef512"
      },
      "execution_count": null,
      "outputs": [
        {
          "output_type": "execute_result",
          "data": {
            "text/plain": [
              "1875.0"
            ]
          },
          "metadata": {},
          "execution_count": 26
        }
      ]
    },
    {
      "cell_type": "code",
      "source": [
        "model.fit(x_train,y_train,epochs = 15)"
      ],
      "metadata": {
        "colab": {
          "base_uri": "https://localhost:8080/"
        },
        "id": "1_5enLBqH0sR",
        "outputId": "668eadad-b1a2-4325-99a3-79d62ec7ecd2"
      },
      "execution_count": null,
      "outputs": [
        {
          "output_type": "stream",
          "name": "stdout",
          "text": [
            "Epoch 1/15\n",
            "1875/1875 [==============================] - 6s 3ms/step - loss: 0.0060 - accuracy: 0.9984\n",
            "Epoch 2/15\n",
            "1875/1875 [==============================] - 6s 3ms/step - loss: 0.0044 - accuracy: 0.9989\n",
            "Epoch 3/15\n",
            "1875/1875 [==============================] - 6s 3ms/step - loss: 0.0051 - accuracy: 0.9987\n",
            "Epoch 4/15\n",
            "1875/1875 [==============================] - 6s 3ms/step - loss: 0.0055 - accuracy: 0.9984\n",
            "Epoch 5/15\n",
            "1875/1875 [==============================] - 6s 3ms/step - loss: 0.0060 - accuracy: 0.9983\n",
            "Epoch 6/15\n",
            "1875/1875 [==============================] - 6s 3ms/step - loss: 0.0034 - accuracy: 0.9990\n",
            "Epoch 7/15\n",
            "1875/1875 [==============================] - 6s 3ms/step - loss: 0.0040 - accuracy: 0.9990\n",
            "Epoch 8/15\n",
            "1875/1875 [==============================] - 6s 3ms/step - loss: 0.0025 - accuracy: 0.9994\n",
            "Epoch 9/15\n",
            "1875/1875 [==============================] - 6s 3ms/step - loss: 0.0051 - accuracy: 0.9986\n",
            "Epoch 10/15\n",
            "1875/1875 [==============================] - 6s 3ms/step - loss: 0.0043 - accuracy: 0.9988\n",
            "Epoch 11/15\n",
            "1875/1875 [==============================] - 6s 3ms/step - loss: 0.0037 - accuracy: 0.9989\n",
            "Epoch 12/15\n",
            "1875/1875 [==============================] - 6s 3ms/step - loss: 0.0038 - accuracy: 0.9989\n",
            "Epoch 13/15\n",
            "1875/1875 [==============================] - 6s 3ms/step - loss: 0.0052 - accuracy: 0.9984\n",
            "Epoch 14/15\n",
            "1875/1875 [==============================] - 6s 3ms/step - loss: 0.0028 - accuracy: 0.9992\n",
            "Epoch 15/15\n",
            "1875/1875 [==============================] - 6s 3ms/step - loss: 0.0031 - accuracy: 0.9991\n"
          ]
        },
        {
          "output_type": "execute_result",
          "data": {
            "text/plain": [
              "<keras.callbacks.History at 0x7f6637cb6310>"
            ]
          },
          "metadata": {},
          "execution_count": 27
        }
      ]
    },
    {
      "cell_type": "code",
      "source": [
        "import pandas as pd\n",
        "loss = pd.DataFrame(model.history.history['loss']).plot()"
      ],
      "metadata": {
        "colab": {
          "base_uri": "https://localhost:8080/",
          "height": 265
        },
        "id": "kfohwU0xICyX",
        "outputId": "bd5e1f24-856b-4d07-d79a-d488ed72699e"
      },
      "execution_count": null,
      "outputs": [
        {
          "output_type": "display_data",
          "data": {
            "text/plain": [
              "<Figure size 432x288 with 1 Axes>"
            ],
            "image/png": "[encoded data removed]"
          },
          "metadata": {
            "needs_background": "light"
          }
        }
      ]
    },
    {
      "cell_type": "code",
      "source": [
        "acc = pd.DataFrame(model.history.history['accuracy']).plot()"
      ],
      "metadata": {
        "colab": {
          "base_uri": "https://localhost:8080/",
          "height": 265
        },
        "id": "VsuRT4RtIaWQ",
        "outputId": "a5f67f6d-f2ed-4068-f0fa-f7046ae2b1af"
      },
      "execution_count": null,
      "outputs": [
        {
          "output_type": "display_data",
          "data": {
            "text/plain": [
              "<Figure size 432x288 with 1 Axes>"
            ],
            "image/png": "[encoded data removed]"
          },
          "metadata": {
            "needs_background": "light"
          }
        }
      ]
    },
    {
      "cell_type": "code",
      "source": [
        "#evaluate on testing data\n",
        "import numpy as np\n",
        "y_pred = model.predict(x_test)\n",
        "y_pred = np.argmax(y_pred,axis=1) #argmax is index of the largest element in the numpy array\n",
        "y_pred  #predicted output"
      ],
      "metadata": {
        "colab": {
          "base_uri": "https://localhost:8080/"
        },
        "id": "XNCmoTtkIkny",
        "outputId": "c8ebbf0a-a7c9-49ea-857f-f9aef0cc650a"
      },
      "execution_count": null,
      "outputs": [
        {
          "output_type": "execute_result",
          "data": {
            "text/plain": [
              "array([7, 2, 1, ..., 4, 5, 6])"
            ]
          },
          "metadata": {},
          "execution_count": 30
        }
      ]
    },
    {
      "cell_type": "code",
      "source": [
        "y_test #actual output"
      ],
      "metadata": {
        "colab": {
          "base_uri": "https://localhost:8080/"
        },
        "id": "eR6hWvwaI6R7",
        "outputId": "2c093f91-d041-4660-afaf-dbcb90e966c4"
      },
      "execution_count": null,
      "outputs": [
        {
          "output_type": "execute_result",
          "data": {
            "text/plain": [
              "array([7, 2, 1, ..., 4, 5, 6], dtype=uint8)"
            ]
          },
          "metadata": {},
          "execution_count": 31
        }
      ]
    },
    {
      "cell_type": "code",
      "source": [
        "from sklearn.metrics import accuracy_score\n",
        "accuracy_score(y_test,y_pred)"
      ],
      "metadata": {
        "colab": {
          "base_uri": "https://localhost:8080/"
        },
        "id": "rqcZo8YlI9hy",
        "outputId": "774196fc-7626-4ab3-f34a-13350c5e6251"
      },
      "execution_count": null,
      "outputs": [
        {
          "output_type": "execute_result",
          "data": {
            "text/plain": [
              "0.9807"
            ]
          },
          "metadata": {},
          "execution_count": 32
        }
      ]
    },
    {
      "cell_type": "code",
      "source": [
        "model.get_weights() #trainable parameters (weights and values)"
      ],
      "metadata": {
        "colab": {
          "base_uri": "https://localhost:8080/"
        },
        "id": "PzJHFbs4JRpN",
        "outputId": "6a676910-69c5-4e58-ab75-10a111301b69"
      },
      "execution_count": null,
      "outputs": [
        {
          "output_type": "execute_result",
          "data": {
            "text/plain": [
              "[array([[ 0.04414523,  0.05298004, -0.02142001, ...,  0.01531531,\n",
              "         -0.03200039, -0.03556014],\n",
              "        [-0.02940056, -0.0245098 , -0.008613  , ..., -0.06378938,\n",
              "          0.04507798,  0.04996039],\n",
              "        [-0.04008415, -0.00896081, -0.04029103, ...,  0.03413726,\n",
              "         -0.06012008,  0.05904121],\n",
              "        ...,\n",
              "        [ 0.00909076,  0.05522163, -0.04930707, ...,  0.06366199,\n",
              "          0.00755884, -0.01970425],\n",
              "        [-0.05347373,  0.0119967 ,  0.00421058, ..., -0.02503546,\n",
              "         -0.04881993, -0.00862783],\n",
              "        [ 0.01342009,  0.0058034 , -0.02658263, ..., -0.01068584,\n",
              "          0.05523758, -0.00250352]], dtype=float32),\n",
              " array([-8.34858641e-02, -2.70607769e-01, -1.65420383e-01,  9.11330655e-02,\n",
              "         9.85974222e-02,  1.41642988e-01,  1.10910192e-01,  3.99604887e-02,\n",
              "        -2.02613622e-02, -1.74273516e-03, -1.43258750e-01, -4.44313511e-02,\n",
              "        -2.00642645e-01,  6.35806331e-03,  1.91922620e-01, -1.10241652e-01,\n",
              "        -9.45566893e-02,  2.42602959e-01, -3.51345874e-02, -1.66043058e-01,\n",
              "        -1.90549284e-01,  1.38156250e-01, -4.23877873e-02,  1.66338682e-01,\n",
              "         1.58055365e-01, -2.25557163e-02, -2.17381194e-01,  5.95902689e-02,\n",
              "        -4.31992160e-03, -2.83910781e-01, -1.19440004e-01,  1.74222156e-01,\n",
              "         1.38138449e-02,  9.51456204e-02, -9.17936414e-02, -3.49561602e-01,\n",
              "        -1.70758128e-01, -1.78962052e-01,  9.68298241e-02,  6.28170297e-02,\n",
              "         4.64964435e-02, -1.69170015e-02,  1.54691473e-01, -1.59614578e-01,\n",
              "        -9.33167413e-02, -1.71146244e-01,  3.36819328e-02, -2.30737440e-02,\n",
              "         5.54888994e-02, -2.24231035e-02, -1.04763456e-01,  4.78803255e-02,\n",
              "        -5.43368235e-02, -8.21715593e-02,  6.23917207e-02,  7.15233237e-02,\n",
              "        -2.71961778e-01,  7.27535337e-02, -3.95946018e-02, -2.36989155e-01,\n",
              "        -1.20706819e-01, -9.01334435e-02, -2.65635967e-01, -1.51614979e-01,\n",
              "         6.92826360e-02, -1.43018574e-01, -9.53044444e-02, -4.80539024e-01,\n",
              "         2.02990204e-01, -4.49313000e-02, -4.58800122e-02, -8.14953372e-02,\n",
              "        -3.70453969e-02, -9.28196590e-03, -2.40912721e-01, -1.00072138e-02,\n",
              "        -5.26768640e-02,  3.46322596e-01,  1.56409591e-02, -2.15335600e-02,\n",
              "         7.88245350e-03,  1.92589641e-01,  6.44689426e-02,  8.22365135e-02,\n",
              "         2.94685978e-02,  8.18616673e-02, -1.03643060e-01,  9.30544809e-02,\n",
              "        -3.06759775e-02, -9.27135646e-02, -8.67528841e-02, -3.47768776e-02,\n",
              "        -1.51501857e-02, -3.35327953e-01,  2.17551813e-01, -6.62487522e-02,\n",
              "        -1.44316018e-01,  2.22902671e-02,  2.27151126e-01, -6.48951158e-02,\n",
              "        -8.35270062e-02,  6.47907555e-02,  5.08346036e-02, -3.06707807e-02,\n",
              "        -1.07302681e-01,  8.95245448e-02, -1.09091915e-01, -1.85731605e-01,\n",
              "        -2.15226151e-02, -7.47726485e-02, -7.93642253e-02, -6.28387555e-02,\n",
              "        -1.23899408e-01, -1.67978322e-03, -2.74648191e-04, -6.85394928e-02,\n",
              "        -2.68851686e-02, -8.30536708e-02, -1.66147351e-01, -9.83335003e-02,\n",
              "        -2.09136918e-01, -8.91162753e-02, -1.15171008e-01,  1.60717770e-01,\n",
              "         5.40173799e-02, -1.40206456e-01, -1.35702550e-01, -5.48653938e-02,\n",
              "        -3.86750735e-02,  1.27651207e-02, -3.37424944e-03,  4.15679105e-02,\n",
              "        -2.85844833e-01, -3.04939419e-01,  2.17446640e-01,  2.75467098e-01,\n",
              "        -1.09815694e-01,  8.12285766e-02, -2.76093006e-01,  3.36921699e-02,\n",
              "        -1.44651949e-01,  1.98460147e-01, -4.28289883e-02,  4.75195684e-02,\n",
              "        -1.58697933e-01,  1.40847815e-02, -4.76650633e-02, -5.68180904e-02,\n",
              "         1.08909542e-02, -1.92867935e-01,  1.12186208e-01, -7.40042627e-02,\n",
              "        -7.92934000e-02, -1.55725092e-01,  1.18258558e-02,  2.71758795e-01,\n",
              "         5.13419434e-02, -3.28100353e-01,  2.18506053e-01, -2.29214445e-01,\n",
              "         4.53512296e-02, -1.48964539e-01,  7.91305229e-02,  5.29268049e-02,\n",
              "         1.22213393e-01,  1.22777566e-01, -4.61475141e-02, -5.14781028e-02,\n",
              "        -2.92194337e-02, -5.52497990e-02, -1.78626344e-01, -5.55139594e-02,\n",
              "         7.97508731e-02,  4.46863845e-02, -6.59734234e-02, -2.84757823e-01,\n",
              "        -5.76275866e-04, -1.43019147e-02,  2.89055053e-02,  1.41670570e-01,\n",
              "        -1.63215473e-01, -1.34846926e-01,  1.43631458e-01, -1.81688666e-01,\n",
              "        -2.31824871e-02,  7.89424255e-02, -2.52799690e-01, -2.57113367e-01,\n",
              "        -8.90073329e-02, -1.94467723e-01, -5.67289069e-02, -1.51725877e-02,\n",
              "        -2.14196984e-02, -4.39120755e-02, -2.60169357e-01, -2.25510672e-01,\n",
              "         1.48486003e-01, -1.46953806e-01, -2.79469371e-01, -2.25608423e-01,\n",
              "        -4.37388569e-02, -9.77657139e-02, -7.35771507e-02, -5.20881414e-02,\n",
              "        -1.15547985e-01,  2.58732140e-02, -8.71795863e-02,  5.14348457e-03,\n",
              "         1.71154626e-02, -2.05858082e-01,  3.42078879e-02, -2.83676296e-01,\n",
              "        -6.04414865e-02, -1.29233645e-02, -1.45337835e-01, -1.64161637e-01,\n",
              "         7.62477443e-02, -3.33700657e-01,  1.59140937e-02, -7.57107660e-02,\n",
              "        -3.89051676e-01, -5.21125421e-02,  1.24611504e-01, -1.93627533e-02,\n",
              "        -3.58778149e-01,  8.77134204e-02,  2.33005900e-02, -4.15538326e-02,\n",
              "         7.02627674e-02, -1.06219761e-03,  1.60611838e-01, -3.27089801e-02,\n",
              "         5.17056091e-03, -8.29955097e-03, -4.49177139e-02, -8.42404962e-02,\n",
              "        -2.45741874e-01, -1.50493413e-01,  2.13585980e-02, -1.24867737e-01,\n",
              "         1.64264608e-02,  2.89368611e-02, -2.05961868e-01, -2.76025325e-01,\n",
              "        -1.59022566e-02,  1.58456445e-01,  1.07178569e-01, -6.17959090e-02,\n",
              "        -8.07609037e-02, -2.05125317e-01, -9.27973092e-02, -1.04826547e-01,\n",
              "        -7.53653795e-02, -3.12628984e-01,  9.04379636e-02, -2.30752915e-01,\n",
              "         9.00250897e-02, -1.20589482e-02, -2.16012403e-01, -1.31388977e-01,\n",
              "         4.85947318e-02, -2.68251784e-02, -4.83879596e-02, -1.37444541e-01,\n",
              "         8.59542787e-02, -2.81451881e-01, -9.92150530e-02, -2.04919413e-01,\n",
              "        -1.47766784e-01, -1.08592585e-01, -1.31850377e-01,  9.32730064e-02,\n",
              "        -1.20795444e-01, -1.61884725e-01, -1.41807407e-01, -1.38925537e-01,\n",
              "         1.78939477e-01, -3.66130061e-02, -1.25983045e-01, -8.94559175e-02,\n",
              "         2.54291408e-02, -2.23827556e-01, -2.57028192e-02,  9.02471840e-02,\n",
              "        -5.56543644e-04, -2.48808324e-01,  1.68378815e-01,  6.59435838e-02,\n",
              "        -3.61571997e-01, -2.57112049e-02, -4.72363420e-02, -3.17330882e-02,\n",
              "         9.43460211e-04, -7.24310428e-02,  2.19367612e-02, -1.88408792e-02,\n",
              "        -2.59014338e-01,  3.23723629e-02, -1.15309440e-01, -1.79403454e-01,\n",
              "        -1.61409914e-01,  3.18285488e-02, -1.52876107e-02, -1.08629453e-03,\n",
              "        -6.23681284e-02, -7.93701783e-02, -7.65676200e-02,  1.36552274e-01,\n",
              "         5.08766174e-02, -1.28167868e-01,  1.29087284e-01, -2.66299784e-01,\n",
              "        -2.88601387e-02, -6.22283071e-02, -1.03038430e-01, -7.70397261e-02,\n",
              "         8.93382132e-02, -2.56047118e-02, -2.30653971e-01, -1.62844472e-02,\n",
              "        -6.91461787e-02,  7.22100120e-03, -5.28436974e-02, -2.68787406e-02,\n",
              "         9.22779441e-02, -1.42796621e-01, -1.25934735e-01, -7.30071366e-02,\n",
              "        -6.97518662e-02, -1.44098341e-01,  4.76596057e-02, -8.27312618e-02,\n",
              "        -2.28084587e-02, -1.41430780e-01, -1.95601359e-01, -1.01410538e-01,\n",
              "         1.39964949e-02,  7.89759122e-03, -1.02648340e-01,  6.48032203e-02,\n",
              "        -3.97472262e-01, -7.19185248e-02, -4.55267318e-02, -9.30518955e-02,\n",
              "         6.47821790e-03,  1.81059893e-02, -1.92974005e-02, -2.35467955e-01,\n",
              "        -3.41823325e-02,  2.49862000e-01,  7.47773498e-02, -1.21119484e-01,\n",
              "         2.35412829e-02,  2.86291838e-01, -1.13463648e-01,  1.71873286e-01,\n",
              "         1.65057197e-01, -6.76157624e-02, -4.67709340e-02,  2.95090023e-02,\n",
              "         1.38936080e-02, -2.00100660e-01,  6.52550384e-02, -2.02098221e-01,\n",
              "         1.24671094e-01, -4.70360890e-02,  7.49481246e-02,  5.20735532e-02,\n",
              "        -2.24419326e-01,  9.17816535e-02, -4.80561405e-02, -6.25608191e-02,\n",
              "        -1.34991974e-01, -8.27599596e-03,  6.41691312e-02,  2.73620337e-02,\n",
              "         5.65444641e-02,  6.21357113e-02, -1.17071897e-01, -6.53624116e-03,\n",
              "        -3.85170318e-02, -2.28234138e-02,  3.96154970e-02, -2.78846651e-01,\n",
              "        -3.66795182e-01, -1.21783748e-01,  4.58404496e-02, -5.05156517e-02,\n",
              "        -5.22447079e-02, -2.06680626e-01, -1.24535665e-01, -8.67465436e-02,\n",
              "        -1.85143486e-01,  9.19864178e-02, -1.94232896e-01,  1.75515845e-01,\n",
              "         2.04410717e-01,  2.83970237e-01, -6.10500723e-02, -1.83157459e-01,\n",
              "        -2.16169864e-01, -1.29855439e-01,  1.46105498e-01, -2.52895743e-01,\n",
              "         1.89211100e-01,  4.27203923e-02, -1.95835173e-01, -5.95090948e-02,\n",
              "        -1.46065861e-01, -8.61105770e-02, -3.09324235e-01, -1.04409844e-01,\n",
              "        -3.21542025e-01, -2.89225012e-01,  7.45737851e-02,  1.18123047e-01,\n",
              "        -1.00477070e-01, -2.17513651e-01,  1.19365111e-01,  3.71998665e-03,\n",
              "        -5.61197400e-02,  1.44336045e-01, -2.23870933e-01,  9.59827751e-02,\n",
              "        -1.04026066e-03, -1.12426728e-01, -9.86749530e-02, -1.48876170e-02,\n",
              "         1.38402447e-01,  1.43639207e-01, -2.50473350e-01, -1.03297874e-01,\n",
              "         5.08893207e-02, -1.61619902e-01, -1.21731177e-01, -1.05582148e-01,\n",
              "        -1.47165745e-01, -7.52107278e-02, -1.63745955e-01,  1.01723615e-02,\n",
              "        -6.76385909e-02, -2.40732998e-01,  4.50684801e-02,  6.71732947e-02,\n",
              "        -5.80797680e-02,  7.27183819e-02, -9.96341705e-02, -3.74929339e-01,\n",
              "        -2.43193269e-01, -1.57765478e-01, -1.74710453e-01, -5.49432449e-02,\n",
              "        -2.94957310e-01, -1.37423947e-02, -5.31910285e-02, -3.25536937e-04,\n",
              "         1.35796117e-02, -1.25046134e-01, -1.17380403e-01,  1.39277190e-01,\n",
              "         2.05339774e-01, -1.22804552e-01, -3.59480619e-01,  6.26504868e-02,\n",
              "         8.92156822e-05, -1.34572349e-02, -1.12869583e-01, -7.27182552e-02,\n",
              "        -1.55178577e-01, -1.68859839e-01,  1.10426910e-01, -1.63873166e-01,\n",
              "        -1.53260142e-01, -1.22569785e-01, -1.35990202e-01, -1.36556290e-02,\n",
              "         8.41117650e-02, -1.87674887e-03,  4.66861725e-02, -4.16618884e-01,\n",
              "         1.80062115e-01, -1.70660671e-02,  6.85910741e-03, -2.45784000e-02,\n",
              "         2.60195113e-03, -1.54161695e-04,  4.74971533e-02, -2.54132420e-01,\n",
              "        -5.80995437e-03,  1.16303176e-01, -2.29497507e-01, -1.95686162e-01,\n",
              "        -1.12034716e-01, -2.70296663e-01, -7.78108835e-03, -1.17243394e-01,\n",
              "        -1.27996895e-02,  1.72209918e-01, -1.50053233e-01,  1.57970879e-02,\n",
              "         8.23246092e-02, -2.96506226e-01, -3.88691723e-01,  5.08058257e-02,\n",
              "         4.54884134e-02, -6.09166175e-03, -3.10778860e-02, -5.80107011e-02,\n",
              "        -8.55549145e-03, -1.07341316e-02, -2.50658721e-01, -2.56245971e-01,\n",
              "        -2.69890159e-01, -1.28081694e-01, -8.21738914e-02,  8.69062915e-02,\n",
              "        -1.69781163e-01,  2.50829030e-02, -3.65643173e-01,  1.80859473e-02,\n",
              "         2.53202170e-02, -9.36239660e-02, -1.37975186e-01, -3.90477329e-02,\n",
              "        -1.48957923e-01,  6.04523607e-02,  1.34068176e-01, -2.33789399e-01,\n",
              "        -1.54569939e-01,  5.99088264e-04, -6.32869487e-04, -2.96110082e-02],\n",
              "       dtype=float32),\n",
              " array([[-0.25752798, -0.65045285, -0.07414585, ...,  0.29301456,\n",
              "          0.0557745 ,  0.04153258],\n",
              "        [-0.2055796 ,  0.02794326, -0.07506788, ...,  0.19512282,\n",
              "          0.22961274, -0.31346378],\n",
              "        [-0.2547243 ,  0.07037907, -0.44957745, ...,  0.12535957,\n",
              "         -0.39706892, -0.36854595],\n",
              "        ...,\n",
              "        [-0.04790684,  0.01510537, -0.73750496, ...,  0.04671338,\n",
              "          0.03889719, -0.03086755],\n",
              "        [ 0.35803923,  0.0877445 , -0.00741268, ..., -0.21503389,\n",
              "          0.45047614, -1.1499041 ],\n",
              "        [ 0.04034107, -0.0547153 , -0.10129529, ...,  0.16024382,\n",
              "         -0.5352855 ,  0.28956634]], dtype=float32),\n",
              " array([ 0.04195525, -0.2226204 , -0.2031343 , -0.15748163, -0.00391317,\n",
              "        -0.16738169, -0.18266386, -0.26942438,  0.7789158 ,  0.10006233],\n",
              "       dtype=float32)]"
            ]
          },
          "metadata": {},
          "execution_count": 33
        }
      ]
    },
    {
      "cell_type": "code",
      "source": [
        "# Hierarchical Data Format 5 file\n",
        "# .hdf5 model saves the weights of the ANN model into a file so that we can use this model in our applications \n",
        "model.save('project.hdf5')"
      ],
      "metadata": {
        "id": "tELMNBBEKDSx"
      },
      "execution_count": null,
      "outputs": []
    },
    {
      "cell_type": "code",
      "source": [
        "y_pred[65]"
      ],
      "metadata": {
        "colab": {
          "base_uri": "https://localhost:8080/"
        },
        "id": "ASOlX8sBKPMG",
        "outputId": "c8c2d509-f923-45d7-fca9-de07d25dacfd"
      },
      "execution_count": null,
      "outputs": [
        {
          "output_type": "execute_result",
          "data": {
            "text/plain": [
              "4"
            ]
          },
          "metadata": {},
          "execution_count": 37
        }
      ]
    },
    {
      "cell_type": "code",
      "source": [
        ""
      ],
      "metadata": {
        "id": "yNDVreFXKe6j"
      },
      "execution_count": null,
      "outputs": []
    }
  ]
}